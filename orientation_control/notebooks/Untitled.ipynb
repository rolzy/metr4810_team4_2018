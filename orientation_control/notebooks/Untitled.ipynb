{
 "cells": [
  {
   "cell_type": "code",
   "execution_count": 2,
   "metadata": {},
   "outputs": [
    {
     "name": "stdout",
     "output_type": "stream",
     "text": [
      "Waking up board on /dev/ttyS4...\n",
      "1\n",
      "{'timestamp': 0, 'elapsed': 0, 'angx': 0, 'angy': 0, 'heading': 0}\n",
      "{'timestamp': '1521283217.73', 'elapsed': 0.01, 'angx': -5.2, 'angy': -1.9, 'heading': 159.0}\n",
      "{'timestamp': '1521283217.73', 'elapsed': 0.01, 'angx': -5.2, 'angy': -1.9, 'heading': 159.0}\n",
      "{'timestamp': '1521283217.75', 'elapsed': 0.01, 'angx': -5.2, 'angy': -1.9, 'heading': 159.0}\n",
      "{'timestamp': '1521283217.75', 'elapsed': 0.01, 'angx': -5.2, 'angy': -1.9, 'heading': 159.0}\n",
      "{'timestamp': '1521283217.77', 'elapsed': 0.01, 'angx': -5.2, 'angy': -1.9, 'heading': 159.0}\n",
      "{'timestamp': '1521283217.77', 'elapsed': 0.01, 'angx': -5.2, 'angy': -1.9, 'heading': 159.0}\n",
      "{'timestamp': '1521283217.79', 'elapsed': 0.01, 'angx': -5.2, 'angy': -1.9, 'heading': 159.0}\n",
      "{'timestamp': '1521283217.79', 'elapsed': 0.01, 'angx': -5.2, 'angy': -1.9, 'heading': 159.0}\n",
      "{'timestamp': '1521283217.81', 'elapsed': 0.01, 'angx': -5.2, 'angy': -1.9, 'heading': 159.0}\n",
      "{'timestamp': '1521283217.81', 'elapsed': 0.01, 'angx': -5.2, 'angy': -1.9, 'heading': 159.0}\n",
      "{'timestamp': '1521283217.83', 'elapsed': 0.01, 'angx': -5.2, 'angy': -1.9, 'heading': 159.0}\n",
      "{'timestamp': '1521283217.83', 'elapsed': 0.01, 'angx': -5.2, 'angy': -1.9, 'heading': 159.0}\n",
      "{'timestamp': '1521283217.85', 'elapsed': 0.01, 'angx': -5.2, 'angy': -1.9, 'heading': 159.0}\n",
      "{'timestamp': '1521283217.85', 'elapsed': 0.01, 'angx': -5.2, 'angy': -1.9, 'heading': 159.0}\n",
      "{'timestamp': '1521283217.87', 'elapsed': 0.01, 'angx': -5.2, 'angy': -1.9, 'heading': 159.0}\n",
      "{'timestamp': '1521283217.87', 'elapsed': 0.01, 'angx': -5.2, 'angy': -1.9, 'heading': 159.0}\n",
      "You pressed Ctrl+C!\n"
     ]
    },
    {
     "ename": "SystemExit",
     "evalue": "",
     "output_type": "error",
     "traceback": [
      "An exception has occurred, use %tb to see the full traceback.\n",
      "\u001b[0;31mSystemExit\u001b[0m\n"
     ]
    }
   ],
   "source": [
    "#!/usr/bin/env python\n",
    "\n",
    "\"\"\"test-send.py: Test script to send RC commands to a MultiWii Board.\"\"\"\n",
    "\n",
    "__author__ = \"Aldo Vargas\"\n",
    "__copyright__ = \"Copyright 2016 Altax.net\"\n",
    "\n",
    "__license__ = \"GPL\"\n",
    "__version__ = \"1\"\n",
    "__maintainer__ = \"Aldo Vargas\"\n",
    "__email__ = \"alduxvm@gmail.com\"\n",
    "__status__ = \"Development\"\n",
    "\n",
    "import sys\n",
    "import signal\n",
    "from pymultiwii import MultiWii\n",
    "\n",
    "def handle_ctrlC(signal, frame):\n",
    "    print 'You pressed Ctrl+C!'\n",
    "    sys.exit()\n",
    "    \n",
    "signal.signal(signal.SIGINT, handle_ctrlC)\n",
    "\n",
    "if __name__ == \"__main__\":\n",
    "\n",
    "    #board = MultiWii(\"/dev/ttyUSB0\")\n",
    "    board = MultiWii(\"/dev/ttyS4\")\n",
    "    try:\n",
    "        while True:\n",
    "        \t#example of 8 RC channels to be send\n",
    "            data = [1500, 1500, 1000, 1040, 1500, 1500, 1500, 1500]\n",
    "            \n",
    "            # Old function \n",
    "            board.sendCMD(16,MultiWii.SET_RAW_RC,data)\n",
    "\n",
    "            #New function that will receive attitude after setting the rc commands\n",
    "            #board.sendCMD(16,MultiWii.SET_RAW_RC,data)\n",
    "            \n",
    "            board.getData(MultiWii.ATTITUDE)\n",
    "            print board.attitude\n",
    "    except Exception,error:\n",
    "        print \"Error on Main: \"+str(error)"
   ]
  }
 ],
 "metadata": {
  "kernelspec": {
   "display_name": "Python 2",
   "language": "python",
   "name": "python2"
  },
  "language_info": {
   "codemirror_mode": {
    "name": "ipython",
    "version": 2
   },
   "file_extension": ".py",
   "mimetype": "text/x-python",
   "name": "python",
   "nbconvert_exporter": "python",
   "pygments_lexer": "ipython2",
   "version": "2.7.12"
  }
 },
 "nbformat": 4,
 "nbformat_minor": 2
}
