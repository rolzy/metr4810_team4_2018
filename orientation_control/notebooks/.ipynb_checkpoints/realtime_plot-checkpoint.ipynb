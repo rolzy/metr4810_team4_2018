{
 "cells": [
  {
   "cell_type": "code",
   "execution_count": 1,
   "metadata": {},
   "outputs": [],
   "source": [
    "%matplotlib notebook\n",
    "#!/usr/bin/env python\n",
    "\n",
    "\"\"\"test-imu-plot.py: Ask multiwii for raw IMU and plot it using matplotlib.\"\"\"\n",
    "\n",
    "import sys\n",
    "import signal\n",
    "from pymultiwii import MultiWii\n",
    "import matplotlib.pyplot as plt"
   ]
  },
  {
   "cell_type": "code",
   "execution_count": 2,
   "metadata": {},
   "outputs": [
    {
     "name": "stdout",
     "output_type": "stream",
     "text": [
      "Waking up board on /dev/ttyS4...\n",
      "1\n",
      "You pressed Ctrl+C!\n"
     ]
    },
    {
     "ename": "SystemExit",
     "evalue": "",
     "output_type": "error",
     "traceback": [
      "An exception has occurred, use %tb to see the full traceback.\n",
      "\u001b[0;31mSystemExit\u001b[0m\n"
     ]
    },
    {
     "name": "stderr",
     "output_type": "stream",
     "text": [
      "/mnt/d/Stuff/Roland/Uni/2018Sem1Courses/metr4810_team4_2018/orientation_control/env/local/lib/python2.7/site-packages/IPython/core/interactiveshell.py:2890: UserWarning: To exit: use 'exit', 'quit', or Ctrl-D.\n",
      "  warn(\"To exit: use 'exit', 'quit', or Ctrl-D.\", stacklevel=1)\n"
     ]
    }
   ],
   "source": [
    "serialPort = \"/dev/ttyS4\"\n",
    "board = MultiWii(serialPort)\n",
    "\n",
    "def handle_close(evt):\n",
    "    sys.exit()\n",
    "    \n",
    "def handle_ctrlC(signal, frame):\n",
    "    print 'You pressed Ctrl+C!'\n",
    "    sys.exit()\n",
    "    \n",
    "signal.signal(signal.SIGINT, handle_ctrlC)\n",
    "\n",
    "fig = plt.figure()\n",
    "fig.canvas.mpl_connect('close_event', handle_close)\n",
    "\n",
    "sb = 0\n",
    "gxbuf, gybuf, gzbuf = 0, 0, 0\n",
    "senses = 0\n",
    "    \n",
    "while True:\n",
    "    board.getData(MultiWii.RAW_IMU)\n",
    "\t#print board.rawIMU\n",
    "    t = float(board.rawIMU['timestamp'])\n",
    "    gx = board.rawIMU['gx']\n",
    "    gy = board.rawIMU['gy']\n",
    "    gz = board.rawIMU['gz']\n",
    "    senses += 1\n",
    "    plt.plot([sb, senses], [gxbuf, gx], color='y', label='GX')\n",
    "    plt.plot([sb, senses], [gybuf, gy], color='black', label='GY')\n",
    "    plt.plot([sb, senses], [gzbuf, gz], color='pink', label='GZ')\n",
    "    sb, gxbuf, gybuf, gzbuf = senses, gx, gy, gz\n",
    "    plt.pause(0.05)"
   ]
  }
 ],
 "metadata": {
  "kernelspec": {
   "display_name": "Python 2",
   "language": "python",
   "name": "python2"
  },
  "language_info": {
   "codemirror_mode": {
    "name": "ipython",
    "version": 2
   },
   "file_extension": ".py",
   "mimetype": "text/x-python",
   "name": "python",
   "nbconvert_exporter": "python",
   "pygments_lexer": "ipython2",
   "version": "2.7.12"
  }
 },
 "nbformat": 4,
 "nbformat_minor": 2
}
